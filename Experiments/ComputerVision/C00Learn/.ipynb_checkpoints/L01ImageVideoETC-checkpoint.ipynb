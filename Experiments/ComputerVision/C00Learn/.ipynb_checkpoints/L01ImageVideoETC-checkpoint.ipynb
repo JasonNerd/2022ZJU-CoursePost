{
 "cells": [
  {
   "cell_type": "markdown",
   "id": "d6afb09e",
   "metadata": {},
   "source": [
    "## 1. 图像的读取和显示\n",
    "[OpenCV-Python快速入门（一）：基本操作](https://blog.csdn.net/FriendshipTang/article/details/125830443)\n",
    "* 主要函数接口  \n",
    "cv2.imread(\"file-path\") // 读取图片成为2维或者3维的矩阵\n",
    "\n",
    "* 显示图像(窗口显示)  \n",
    "cv2.namedWindow(\"img\",0) // 用来创建指定名称的窗口,0表示CV_WINDOW_NORMAL  \n",
    "cv2.resizeWindow(\"img\", 640, 480); // 设置长宽大小为640*480  \n",
    "cv2.imshow(\"img\", img) // 用来显示图像  \n",
    "// 用来等待按键，当用户按下键盘后，该语句会被执行，并获取返回值  \n",
    "cv2.waitKey(0) // 值是负数或者零时，表示无限等待  \n",
    "cv2.destroyAllWindows() // 用来释放（销毁）所有窗口  \n",
    "\n",
    "* `namedWindow(\"name\", arg)`\n",
    "  arg = WINDOW_NORMAL, WINDOW_AUTOSIZE, WINDOW_KEEPRATIO, WINDOW_FREERATIO, \n"
   ]
  },
  {
   "cell_type": "code",
   "execution_count": 1,
   "id": "079831f7",
   "metadata": {},
   "outputs": [],
   "source": [
    "import cv2\n",
    "import matplotlib.pyplot as plt\n",
    "import numpy as np"
   ]
  },
  {
   "cell_type": "code",
   "execution_count": 10,
   "id": "46068d56",
   "metadata": {},
   "outputs": [
    {
     "data": {
      "text/plain": [
       "(782, 750, 3)"
      ]
     },
     "execution_count": 10,
     "metadata": {},
     "output_type": "execute_result"
    }
   ],
   "source": [
    "ninu = cv2.imread(\"../imagedata/nilu.png\")\n",
    "ninu.shape # RGB三通道"
   ]
  },
  {
   "cell_type": "code",
   "execution_count": 20,
   "id": "02c0218c",
   "metadata": {},
   "outputs": [],
   "source": [
    "def img_show(title, img):\n",
    "    cv2.namedWindow(title, 1)\n",
    "#     cv2.resizeWindow(title, 800, 600)\n",
    "    cv2.imshow(title, img)\n",
    "    cv2.waitKey(0) # 0或者负数表示无限等待, 正数表示等待N毫秒就关闭窗口\n",
    "    cv2.destroyAllWindows() # 释放窗口\n",
    "img_show(\"ninu\", ninu)\n",
    "# 保存图片\n",
    "# cv2.imwrite(\"path\", img)"
   ]
  },
  {
   "cell_type": "markdown",
   "id": "0c1ec116",
   "metadata": {},
   "source": [
    "## 视频的保存和播放\n",
    "主要函数接口\n",
    "* `VideoCapture(arg)`: arg=0表示读取摄像头, arg=\"video path\"则读取该视频. \n",
    "* `cap.isOpened()`: 判断视频对象是否成功读取，成功读取视频对象返回True.  \n",
    "* `ret,frame = cap.read()`: 按帧读取视频，返回值ret是布尔型，正确读取则返回True，读取失败或读取视频结尾则会返回False, frame为每一帧的图像.  \n",
    "* cv2.waitKey(1)，waitKey（）方法本身表示等待键盘输入，参数是1，表示延时1ms切换到下一帧图像，对于视频而言；参数为0，如cv2.waitKey(0)只显示当前帧图像，相当于视频暂停, 得到的是键盘输入的ASCII码，esc键对应的ASCII码是27。\n"
   ]
  },
  {
   "cell_type": "code",
   "execution_count": null,
   "id": "16d3c167",
   "metadata": {},
   "outputs": [],
   "source": []
  }
 ],
 "metadata": {
  "kernelspec": {
   "display_name": "Python 3 (ipykernel)",
   "language": "python",
   "name": "python3"
  },
  "language_info": {
   "codemirror_mode": {
    "name": "ipython",
    "version": 3
   },
   "file_extension": ".py",
   "mimetype": "text/x-python",
   "name": "python",
   "nbconvert_exporter": "python",
   "pygments_lexer": "ipython3",
   "version": "3.8.13"
  }
 },
 "nbformat": 4,
 "nbformat_minor": 5
}
