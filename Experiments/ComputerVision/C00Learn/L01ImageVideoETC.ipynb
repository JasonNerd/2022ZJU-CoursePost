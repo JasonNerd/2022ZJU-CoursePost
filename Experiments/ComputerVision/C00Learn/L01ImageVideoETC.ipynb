{
 "cells": [
  {
   "cell_type": "markdown",
   "id": "d6afb09e",
   "metadata": {},
   "source": [
    "## 1. 图像的读取和显示\n",
    "[OpenCV-Python快速入门（一）：基本操作](https://blog.csdn.net/FriendshipTang/article/details/125830443)\n",
    "* 主要函数接口  \n",
    "cv2.imread(\"file-path\") // 读取图片成为2维或者3维的矩阵\n",
    "\n",
    "* 显示图像(窗口显示)  \n",
    "cv2.namedWindow(\"img\",0) // 用来创建指定名称的窗口,0表示CV_WINDOW_NORMAL  \n",
    "cv2.resizeWindow(\"img\", 640, 480); // 设置长宽大小为640*480  \n",
    "cv2.imshow(\"img\", img) // 用来显示图像  \n",
    "// 用来等待按键，当用户按下键盘后，该语句会被执行，并获取返回值  \n",
    "cv2.waitKey(0) // 值是负数或者零时，表示无限等待  \n",
    "cv2.destroyAllWindows() // 用来释放（销毁）所有窗口  \n",
    "\n",
    "* `namedWindow(\"name\", arg)`\n",
    "  arg = WINDOW_NORMAL, WINDOW_AUTOSIZE, WINDOW_KEEPRATIO, WINDOW_FREERATIO, \n"
   ]
  },
  {
   "cell_type": "code",
   "execution_count": 1,
   "id": "079831f7",
   "metadata": {},
   "outputs": [],
   "source": [
    "import cv2\n",
    "import matplotlib.pyplot as plt\n",
    "import numpy as np"
   ]
  },
  {
   "cell_type": "code",
   "execution_count": 3,
   "id": "46068d56",
   "metadata": {},
   "outputs": [
    {
     "data": {
      "text/plain": [
       "(782, 750, 3)"
      ]
     },
     "execution_count": 3,
     "metadata": {},
     "output_type": "execute_result"
    }
   ],
   "source": [
    "ninu = cv2.imread(\"../imagedata/nilu.png\")\n",
    "ninu.shape # RGB三通道"
   ]
  },
  {
   "cell_type": "code",
   "execution_count": 4,
   "id": "02c0218c",
   "metadata": {},
   "outputs": [],
   "source": [
    "def img_show(title, img):\n",
    "    cv2.namedWindow(title, 1) # 可调整宽高\n",
    "    cv2.imshow(title, img)\n",
    "    cv2.waitKey(0) # 0或者负数表示无限等待, 正数表示等待N毫秒就关闭窗口\n",
    "    cv2.destroyAllWindows() # 释放窗口\n",
    "img_show(\"ninu\", ninu)\n",
    "# 保存图片\n",
    "# cv2.imwrite(\"path\", img)"
   ]
  },
  {
   "cell_type": "markdown",
   "id": "f963f300",
   "metadata": {},
   "source": [
    "## 视频的保存和播放\n",
    "主要函数接口\n",
    "* `VideoCapture(arg)`: arg=0表示读取摄像头, arg=\"video path\"则读取该视频. \n",
    "* `cap.isOpened()`: 判断视频对象是否成功读取，成功读取视频对象返回True.  \n",
    "* `ret,frame = cap.read()`: 按帧读取视频，返回值ret是布尔型，正确读取则返回True，读取失败或读取视频结尾则会返回False, frame为每一帧的图像.  \n",
    "* cv2.waitKey(1)，waitKey（）方法本身表示等待键盘输入，参数是1，表示延时1ms切换到下一帧图像，对于视频而言；参数为0，如cv2.waitKey(0)只显示当前帧图像，相当于视频暂停, 得到的是键盘输入的ASCII码，esc键对应的ASCII码是27。\n"
   ]
  },
  {
   "cell_type": "markdown",
   "id": "400e31e0",
   "metadata": {},
   "source": [
    "### 视频播放\n",
    "* 基本原理是获取每一帧, 将其按照一定的时延展示出来"
   ]
  },
  {
   "cell_type": "code",
   "execution_count": 5,
   "id": "7319c361",
   "metadata": {},
   "outputs": [
    {
     "data": {
      "text/plain": [
       "(3840, 2160, 30.0, 828601953.0)"
      ]
     },
     "execution_count": 5,
     "metadata": {},
     "output_type": "execute_result"
    }
   ],
   "source": [
    "def playVideo(path, name, size):\n",
    "    video = cv2.VideoCapture(path)\n",
    "    # 获取视频的基本信息\n",
    "    width = int(video.get(cv2.CAP_PROP_FRAME_WIDTH))\n",
    "    height = int(video.get(cv2.CAP_PROP_FRAME_HEIGHT))\n",
    "    fps = video.get(cv2.CAP_PROP_FPS) # 帧率, 也即每秒传输的帧数\n",
    "    fourcc = video.get(cv2.CAP_PROP_FOURCC) # 视频编码格式\n",
    "    while video.isOpened():\n",
    "        ret, frame = video.read()\n",
    "        if not ret:\n",
    "            break\n",
    "        # 显示帧, 注意有一个窗口放缩操作\n",
    "        cv2.namedWindow(name, 0)\n",
    "        if width > size:\n",
    "            cv2.resizeWindow(name, size, int(size*height/width))\n",
    "        cv2.imshow(name, frame)\n",
    "        # 控制每一帧的间隔, 以及用户操作, 例如按一下空格就暂停, 再按一下就播放\n",
    "        key = cv2.waitKey(int(1000/fps))\n",
    "        if key == 32: # 表示空格, 应该暂停\n",
    "            key = cv2.waitKey(0) # 暂停帧, 等待键盘输入\n",
    "            if key == 32: # 表示再次按下空格, 视频播放, 也即进入下一帧的处理\n",
    "                continue\n",
    "            if key == 27: # 按下Esc直接退出\n",
    "                break\n",
    "        if key == 27: # 按下Esc直接退出\n",
    "                break\n",
    "    video.release()\n",
    "    cv2.destroyAllWindows()\n",
    "    return width, height, fps, fourcc\n",
    "playVideo(\"../imagedata/JapanOceanSunrise.mp4\", \"JapanOceanSunrise\", 1080)"
   ]
  },
  {
   "cell_type": "markdown",
   "id": "cd67db10",
   "metadata": {},
   "source": [
    "### 视频流写入与保存\n",
    "一帧一帧的写入\n",
    "* `VideoWriter_fourcc`: 保存视频编码格式  \n",
    "* `VideoWriter`: 写入视频对象句柄  \n",
    "* 关于fourcc:\n",
    "    1. .avi\n",
    "        $I420$ YUV编码, $PIM1$ MPEG-1编码, $XVID$ MPEG-4编码  \n",
    "    2. .mp4 MP4V\n"
   ]
  },
  {
   "cell_type": "code",
   "execution_count": 49,
   "id": "1630610a",
   "metadata": {},
   "outputs": [],
   "source": [
    "import os\n",
    "fourcc = cv2.VideoWriter_fourcc('M', 'P', '4', 'V')\n",
    "outV1 = cv2.VideoWriter(\"../imagedata/demo.mp4\", fourcc, 30, (1920, 1080))\n",
    "imgRoot = \"./input/\"\n",
    "for f in os.listdir(imgRoot):\n",
    "    frame = cv2.imread(imgRoot+f)\n",
    "    for j in range(30):\n",
    "        outV1.write(frame)\n",
    "outV1.release()\n",
    "cv2.destroyAllWindows()\n"
   ]
  },
  {
   "cell_type": "markdown",
   "id": "bb638834",
   "metadata": {},
   "source": [
    "## cv绘制线段、射线、直线、矩形、椭圆、四边形"
   ]
  },
  {
   "cell_type": "code",
   "execution_count": 2,
   "id": "5defa52d",
   "metadata": {},
   "outputs": [],
   "source": [
    "def init_img(h, w, c):\n",
    "    img = np.ones((h, w, 3), dtype=np.uint8)\n",
    "    img = img*c\n",
    "    return img\n",
    "def show(img):\n",
    "    cv2.imshow(\"img\", img)\n",
    "    cv2.waitKey(0)\n",
    "    cv2.destroyAllWindows()\n",
    "show(init_img(600, 800, 224))"
   ]
  },
  {
   "cell_type": "markdown",
   "id": "84358783",
   "metadata": {},
   "source": [
    "##### img = cv2.line( img, pt1, pt2, color[, thickness[, lineType ]])"
   ]
  },
  {
   "cell_type": "code",
   "execution_count": 36,
   "id": "6ff7589a",
   "metadata": {},
   "outputs": [],
   "source": [
    "# (w, h)\n",
    "blue_line = cv2.line(\n",
    "    init_img(600, 800, 224), \n",
    "    (200, 150), \n",
    "    (600, 450), \n",
    "    (255, 127, 63), \n",
    "    2\n",
    ")\n",
    "show(blue_line)"
   ]
  },
  {
   "cell_type": "markdown",
   "id": "eb3fb76f",
   "metadata": {},
   "source": [
    "##### img = cv2.rectangle( img, pt1, pt2, color[, thickness[, lineType ]])"
   ]
  },
  {
   "cell_type": "code",
   "execution_count": 37,
   "id": "5efdb8a0",
   "metadata": {},
   "outputs": [],
   "source": [
    "rec_tan = cv2.rectangle(\n",
    "    init_img(600, 800, 224), \n",
    "    (200, 150), \n",
    "    (600, 450), \n",
    "    (255, 127, 63), \n",
    "    1  # 若为-1则表示实心\n",
    ")\n",
    "show(rec_tan)"
   ]
  },
  {
   "cell_type": "markdown",
   "id": "562b7192",
   "metadata": {},
   "source": [
    "##### img = cv2.circle( img, center, radius, color[, thickness[, lineType]] )"
   ]
  },
  {
   "cell_type": "code",
   "execution_count": 42,
   "id": "00b03491",
   "metadata": {},
   "outputs": [],
   "source": [
    "circle = cv2.circle(\n",
    "    init_img(600, 800, 224), \n",
    "    (400, 300), \n",
    "    150, \n",
    "    (255, 127, 63), \n",
    "    -1  # 若为-1则表示实心\n",
    ")\n",
    "show(circle)"
   ]
  },
  {
   "cell_type": "markdown",
   "id": "e0d86e17",
   "metadata": {},
   "source": [
    "##### img=cv2.ellipse(img, center, axes, angle, startAngle, endAngle, color[,thickness[, lineType]])"
   ]
  },
  {
   "cell_type": "code",
   "execution_count": 46,
   "id": "026739fe",
   "metadata": {},
   "outputs": [],
   "source": [
    "ellipse = cv2.ellipse(\n",
    "    init_img(600, 800, 224), \n",
    "    (400, 300), \n",
    "    (200, 150), # (横向半轴长, 纵向半轴长)\n",
    "    45, # 偏角0至360\n",
    "    45, # 始角\n",
    "    315, # 终角\n",
    "    (255, 127, 63), \n",
    "    2  # 若为-1则表示实心\n",
    ")\n",
    "show(ellipse)"
   ]
  },
  {
   "cell_type": "markdown",
   "id": "185620f2",
   "metadata": {},
   "source": [
    "##### img = cv2.polylines( img, pts, isClosed, color[, thickness[, lineType[, shift]]])"
   ]
  },
  {
   "cell_type": "code",
   "execution_count": 54,
   "id": "fc38babd",
   "metadata": {},
   "outputs": [],
   "source": [
    "pts = np.array([[200, 160], [200, 480], [400, 320]])\n",
    "poly = cv2.polylines(\n",
    "    init_img(600, 800, 224), \n",
    "    [pts],\n",
    "    True,\n",
    "    (255, 127, 63), \n",
    "    2\n",
    ")\n",
    "show(poly)"
   ]
  },
  {
   "cell_type": "markdown",
   "id": "42152664",
   "metadata": {},
   "source": [
    "## 文字显示\n",
    "```\n",
    "img=cv2.putText(img, text, org, fontFace, fontScale, color[, thickness[,lineType[, bottomLeftOrigin]]])\n",
    "参数说明：\n",
    "    img：在其上面绘制图形的载体图像（绘图的容器载体，也称为画布、画板）。\n",
    "    text 为要绘制的字体。\n",
    "    org 为绘制字体的位置，以文字的左下角为起点。\n",
    "    fontFace 表示字体类型，其参数类型及含义。\n",
    "    fontScale 表示字体大小。\n",
    "    color：绘制形状的颜色。通常使用 BGR 模型表示颜色，\n",
    "        例如，(0, 255, 0)表示绿色。对于灰度图像，只能传入灰度值。\n",
    "        需要注意，颜色通道的顺序是 BGR，而不是 RGB。\n",
    "    thickness：线条的粗细。\n",
    "        默认值是 1，如果设置为-1，表示填充图形（即绘制的图形是实心的）。\n",
    "    lineType：线条的类型，默认是 8 连接类型。\n",
    "    bottomLeftOrigin 用于控制文字的方向。\n",
    "        默认值为 False，当设置为 True 时，文字是垂直镜像的效果。https://blog.csdn.net/FriendshipTang/article/details/126088388\n",
    "```"
   ]
  },
  {
   "cell_type": "code",
   "execution_count": 10,
   "id": "76f938e8",
   "metadata": {},
   "outputs": [],
   "source": [
    "img = init_img(600, 800, 224)\n",
    "img = cv2.putText(\n",
    "    img, \n",
    "    \"Hello, Open-CV!\", \n",
    "    (100, 250), \n",
    "    cv2.FONT_HERSHEY_COMPLEX, \n",
    "    2,\n",
    "    (255, 127, 63),\n",
    "    5\n",
    ")\n",
    "# show(img)"
   ]
  },
  {
   "cell_type": "markdown",
   "id": "84af43f5",
   "metadata": {},
   "source": [
    "关于中文显示"
   ]
  },
  {
   "cell_type": "code",
   "execution_count": 11,
   "id": "f3c0a21b",
   "metadata": {},
   "outputs": [],
   "source": [
    "from PIL import Image, ImageDraw, ImageFont\n",
    "# 绘制中文\n",
    "img = Image.fromarray(img)\n",
    "draw = ImageDraw.Draw(img)\n",
    "# 字体格式\n",
    "font = ImageFont.truetype(\"stsong.ttf\", size=50, encoding='utf-8')\n",
    "# 绘制文本\n",
    "draw.text((100, 400),\"数字世界，精彩无限。\",(255, 127, 63),font=font)\n",
    "img = np.array(img)\n",
    "show(img)"
   ]
  },
  {
   "cell_type": "markdown",
   "id": "455f42b7",
   "metadata": {},
   "source": [
    "#### 我想要使图片有一个渐变的效果，例如逐渐变淡(变白变亮?)\n",
    "我的理解是\n",
    "1. 首先你需要将图片进行放缩和边缘填充以适合视频尺寸\n",
    "2. 紧接着对图像进行渐进式的像素变化，比如统一变大\n",
    "值得注意的是，或许已经有了这样的一个api可以调用:\n",
    "cv2.addWeighted(bottom, ratio, top, 1-ratio, gamma)"
   ]
  },
  {
   "cell_type": "code",
   "execution_count": 3,
   "id": "e81dfc74",
   "metadata": {},
   "outputs": [],
   "source": [
    "# 将img按规定尺寸和底色进行标准化\n",
    "def stdize(img, w, h, c):\n",
    "    iw = img.shape[1]\n",
    "    ih = img.shape[0]\n",
    "    std = np.ones((h, w, 3), dtype=np.uint8)*c\n",
    "    # 放缩\n",
    "    if iw > w: # 宽度超限\n",
    "        ih = int(w*ih/iw)\n",
    "        iw = w\n",
    "        img = cv2.resize(img, (iw, ih)) # 注意为宽, 高\n",
    "    if ih > h: # 高度超限\n",
    "        iw = int(h*iw/ih)\n",
    "        ih = h\n",
    "        img = cv2.resize(img, (iw, ih))\n",
    "    # 填充\n",
    "    sx = int((w-iw)/2)\n",
    "    sy = int((h-ih)/2)\n",
    "    std[sy: sy+ih, sx: sx+iw, 0: 3] = img\n",
    "    return std        "
   ]
  },
  {
   "cell_type": "code",
   "execution_count": 4,
   "id": "55ff846b",
   "metadata": {},
   "outputs": [],
   "source": [
    "# 现规定图片或者视频帧的统一大小为1024x618, 背景底色224\n",
    "# 字体颜色(255, 127, 63), 帧率30\n",
    "DY_WIDTH = 1024\n",
    "DY_HEIGHT = 618\n",
    "DY_BGCOLOR = 224\n",
    "DY_FONTCOL = (255, 127, 63)\n",
    "FPS = 30\n",
    "potrait = cv2.imread(\"../imagedata/dy.jpg\")\n",
    "potrait = stdize(potrait, DY_WIDTH, DY_HEIGHT, DY_BGCOLOR)\n",
    "show(potrait)"
   ]
  },
  {
   "cell_type": "code",
   "execution_count": 8,
   "id": "77243dbc",
   "metadata": {},
   "outputs": [],
   "source": [
    "bgcanvas = init_img(DY_HEIGHT, DY_WIDTH, DY_BGCOLOR)\n",
    "for i in np.linspace(0, 1, 180):\n",
    "    frame = cv2.addWeighted(bgcanvas, i, potrait, 1-i, 0)\n",
    "    cv2.imshow(\"potrait\", frame)\n",
    "    cv2.waitKey(10)\n",
    "cv2.destroyAllWindows()"
   ]
  },
  {
   "cell_type": "code",
   "execution_count": 27,
   "id": "47600e4f",
   "metadata": {},
   "outputs": [],
   "source": [
    "def init_video(path, fps, size):\n",
    "    fourcc = cv2.VideoWriter_fourcc('M', 'P', '4', 'V')\n",
    "    return cv2.VideoWriter(path, fourcc, fps, size)\n",
    "path = \"22221324.mp4\"\n",
    "vhd = init_video(path, FPS, (DY_WIDTH, DY_HEIGHT))\n",
    "\n",
    "# 1. 片头, 照片配一段文字，要求先显示照片，效果为淡入, 然后逐个的显示文字，最后慢慢淡出\n",
    "# 1s是30帧，照片淡入3s，逐个显示文字9s，整体淡出3s, 一共15x30=450帧\n",
    "# 图片淡入\n",
    "t_in = 3\n",
    "wt = int(1000/FPS)\n",
    "frame = bgcanvas\n",
    "info = \"大家好我是段裕，学号22221324\" # 18\n",
    "for i in np.linspace(0, 1, t_in*FPS):\n",
    "    frame = cv2.addWeighted(bgcanvas, 1-i, potrait, i, 0)\n",
    "    vhd.write(frame)\n",
    "    cv2.imshow(\"potrait\", frame)\n",
    "    cv2.waitKey(wt)\n",
    "# 逐个显示文字\n",
    "w = int((DY_WIDTH-len(info)*30)/2)\n",
    "h = int(DY_HEIGHT-30*3)\n",
    "for i in range(len(info)):\n",
    "    frame = addCh(frame, info[:i], w, h, 30, DY_FONTCOL)\n",
    "    cv2.imshow(\"potrait\", frame)\n",
    "    cv2.waitKey(200)\n",
    "def addCh(img, text, w, h, size, c):\n",
    "    img = Image.fromarray(img)\n",
    "    draw = ImageDraw.Draw(img)\n",
    "    font = ImageFont.truetype(\"stsong.ttf\", size=size, encoding='utf-8')\n",
    "    draw.text((w, h),text, c, font=font)\n",
    "    img = np.array(img)\n",
    "    return img\n",
    "\n",
    "cv2.destroyAllWindows()"
   ]
  },
  {
   "cell_type": "code",
   "execution_count": 21,
   "id": "053e52a4",
   "metadata": {},
   "outputs": [],
   "source": []
  },
  {
   "cell_type": "code",
   "execution_count": null,
   "id": "cea15892",
   "metadata": {},
   "outputs": [],
   "source": []
  }
 ],
 "metadata": {
  "kernelspec": {
   "display_name": "Python 3 (ipykernel)",
   "language": "python",
   "name": "python3"
  },
  "language_info": {
   "codemirror_mode": {
    "name": "ipython",
    "version": 3
   },
   "file_extension": ".py",
   "mimetype": "text/x-python",
   "name": "python",
   "nbconvert_exporter": "python",
   "pygments_lexer": "ipython3",
   "version": "3.8.13"
  }
 },
 "nbformat": 4,
 "nbformat_minor": 5
}
