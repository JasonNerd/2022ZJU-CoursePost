{
 "cells": [
  {
   "cell_type": "markdown",
   "id": "09beabdb",
   "metadata": {},
   "source": [
    "## 设计一个雪人\n",
    "它包含一个半椭圆形身子，圆形头部，一顶倒扣三角形帽子，两个圆形眼睛，一个半椭圆形嘴巴，两根线段的手部"
   ]
  },
  {
   "cell_type": "code",
   "execution_count": 1,
   "id": "84cbe5c6",
   "metadata": {},
   "outputs": [],
   "source": [
    "import cv2\n",
    "import numpy as np\n",
    "DY_WIDTH = 1024  # 标准宽度\n",
    "DY_HEIGHT = 618  # 标准高度\n",
    "DY_BGCOLOR = 224  # 标准背景色\n",
    "DY_FONTCOL = (255, 127, 63)  # 标准字体色\n",
    "FPS = 30  # 标准视频帧率\n",
    "TTW = int(1000/FPS)  # 标准帧时间间隔\n",
    "def init_img(h, w, c):\n",
    "    # 返回一个BGR值均为c的高h宽w的图像矩阵\n",
    "    return np.ones((h, w, 3), dtype=np.uint8)*c\n",
    "\n",
    "def show(img):\n",
    "    cv2.imshow(\"img\", img)\n",
    "    cv2.waitKey(0)\n",
    "    cv2.destroyAllWindows()"
   ]
  },
  {
   "cell_type": "code",
   "execution_count": 32,
   "id": "15113710",
   "metadata": {},
   "outputs": [],
   "source": [
    "# 以下设定雪人的参数\n",
    "DY_TOP_PAD = 50\n",
    "DY_BOT_PAD = 28\n",
    "DY_HEAD_SIZE = (100, 100) # 横半轴长, 纵半轴长\n",
    "DY_HAT_HEIGHT = 60\n",
    "DY_BODY_SIZE = (200, DY_HEIGHT-DY_TOP_PAD-DY_BOT_PAD-DY_HAT_HEIGHT-2*DY_HEAD_SIZE[1])\n",
    "DY_HEAD_CENTER = (int(DY_WIDTH/2), DY_TOP_PAD+DY_HAT_HEIGHT+DY_HEAD_SIZE[1])\n",
    "DY_BOBY_CENTER = (int(DY_WIDTH/2), DY_HEIGHT-DY_BOT_PAD)\n",
    "HAT_TOP_P = (int(DY_WIDTH/2), DY_TOP_PAD)\n",
    "# 计算帽子两边的点\n",
    "delta = np.sqrt(3)/2\n",
    "HAT_SIDE1 = (HAT_TOP_P[0]-DY_HEAD_SIZE[1], DY_HEAD_CENTER[1]-int(DY_HEAD_SIZE[1]*delta))\n",
    "HAT_SIDE2 = (HAT_TOP_P[0]+DY_HEAD_SIZE[1], DY_HEAD_CENTER[1]-int(DY_HEAD_SIZE[1]*delta))"
   ]
  },
  {
   "cell_type": "code",
   "execution_count": 59,
   "id": "16629a3b",
   "metadata": {},
   "outputs": [],
   "source": [
    "# 基于以上得到雪人的外形\n",
    "DY_HAT_COL = (63, 63, 255)\n",
    "canvas = init_img(DY_HEIGHT, DY_WIDTH, DY_BGCOLOR)\n",
    "canvas = cv2.line(canvas, HAT_TOP_P, HAT_SIDE1, DY_HAT_COL, 4)\n",
    "canvas = cv2.line(canvas, HAT_TOP_P, HAT_SIDE2, DY_HAT_COL, 4)\n",
    "canvas = cv2.ellipse(canvas, DY_HEAD_CENTER, DY_HEAD_SIZE, 0, 0, 360, DY_FONTCOL, 2)\n",
    "canvas = cv2.ellipse(canvas, DY_BOBY_CENTER, DY_BODY_SIZE, 0, 180, 360, DY_FONTCOL, 3)\n"
   ]
  },
  {
   "cell_type": "code",
   "execution_count": 61,
   "id": "4c7c7598",
   "metadata": {},
   "outputs": [],
   "source": [
    "# 再画手和眼睛和嘴巴\n",
    "LocRate = 1/2\n",
    "eyeSize = (0.2, 0.24)\n",
    "EYE_SIZE = (int(DY_HEAD_SIZE[0]*eyeSize[0]), int(DY_HEAD_SIZE[1]*eyeSize[1]))\n",
    "DY_EYE1 = (DY_HEAD_CENTER[0]-int(DY_HEAD_SIZE[0]*LocRate), DY_HEAD_CENTER[1]-int(DY_HEAD_SIZE[1]*LocRate))\n",
    "DY_EYE2 = (DY_HEAD_CENTER[0]+int(DY_HEAD_SIZE[0]*LocRate), DY_HEAD_CENTER[1]-int(DY_HEAD_SIZE[1]*LocRate))\n",
    "mouthSize = (3/4, 1/2)\n",
    "mAg = 20\n",
    "DY_MOUTH_SIZE = (int(DY_HEAD_SIZE[0]*mouthSize[0]), int(DY_HEAD_SIZE[0]*mouthSize[1]))\n",
    "canvas = cv2.ellipse(canvas, DY_EYE1, EYE_SIZE, 0, 0, 360, DY_FONTCOL, -1)\n",
    "canvas = cv2.ellipse(canvas, DY_EYE2, EYE_SIZE, 0, 0, 360, DY_FONTCOL, -1)\n",
    "canvas = cv2.ellipse(canvas, DY_HEAD_CENTER, DY_MOUTH_SIZE, 0, mAg, 180-mAg, DY_HAT_COL, 5)\n",
    "show(canvas)"
   ]
  },
  {
   "cell_type": "code",
   "execution_count": null,
   "id": "c56468ca",
   "metadata": {},
   "outputs": [],
   "source": []
  }
 ],
 "metadata": {
  "kernelspec": {
   "display_name": "Python 3 (ipykernel)",
   "language": "python",
   "name": "python3"
  },
  "language_info": {
   "codemirror_mode": {
    "name": "ipython",
    "version": 3
   },
   "file_extension": ".py",
   "mimetype": "text/x-python",
   "name": "python",
   "nbconvert_exporter": "python",
   "pygments_lexer": "ipython3",
   "version": "3.8.13"
  }
 },
 "nbformat": 4,
 "nbformat_minor": 5
}
